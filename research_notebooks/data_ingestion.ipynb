{
 "cells": [
  {
   "cell_type": "markdown",
   "metadata": {},
   "source": [
    "#### **Image Dataset Ingestion**\n",
    "\n",
    "This notebook handles the ingestion of the image dataset for classification purposes. The dataset includes  images of various chicken diseases, stored in different directories .\n"
   ]
  },
  {
   "cell_type": "markdown",
   "metadata": {},
   "source": [
    "#### **Changing Directory in Python**\n",
    "\n",
    "The following Python code demonstrates changing the working directory using the `os` module in Python.\n"
   ]
  },
  {
   "cell_type": "code",
   "execution_count": 1,
   "metadata": {},
   "outputs": [],
   "source": [
    "import os "
   ]
  },
  {
   "cell_type": "code",
   "execution_count": 2,
   "metadata": {},
   "outputs": [
    {
     "data": {
      "text/plain": [
       "'c:\\\\Users\\\\SURESH BEEKHANI\\\\Desktop\\\\Chicken-Disease-Classification\\\\research'"
      ]
     },
     "execution_count": 2,
     "metadata": {},
     "output_type": "execute_result"
    }
   ],
   "source": [
    "%pwd"
   ]
  },
  {
   "cell_type": "code",
   "execution_count": 3,
   "metadata": {},
   "outputs": [],
   "source": [
    "os.chdir(\"../\")"
   ]
  },
  {
   "cell_type": "code",
   "execution_count": 4,
   "metadata": {},
   "outputs": [
    {
     "data": {
      "text/plain": [
       "'c:\\\\Users\\\\SURESH BEEKHANI\\\\Desktop\\\\Chicken-Disease-Classification'"
      ]
     },
     "execution_count": 4,
     "metadata": {},
     "output_type": "execute_result"
    }
   ],
   "source": [
    "%pwd"
   ]
  },
  {
   "cell_type": "markdown",
   "metadata": {},
   "source": [
    "#### **Data Ingestion Configuration**\n",
    "\n",
    "This section defines a configuration class for data ingestion using Python's `dataclasses` and `pathlib` modules.\n"
   ]
  },
  {
   "cell_type": "code",
   "execution_count": 5,
   "metadata": {},
   "outputs": [],
   "source": [
    "from dataclasses import dataclass\n",
    "from pathlib import Path\n",
    "\n",
    "@dataclass(frozen=True)\n",
    "class DataIngestionConfig:\n",
    "    root_dir: Path          # The root directory for data storage\n",
    "    source_URL: str         # URL to the data source\n",
    "    local_data_file: Path   # Path to the local data file\n",
    "    unzip_dir: Path         # Directory where data will be extracted\n"
   ]
  },
  {
   "cell_type": "markdown",
   "metadata": {},
   "source": [
    "#### **Configuration Manager**\n",
    "\n",
    "The `ConfigurationManager` class is responsible for managing configuration settings for the project. It reads configuration files, sets up necessary directories, and provides configurations for different stages of the data pipeline.\n"
   ]
  },
  {
   "cell_type": "code",
   "execution_count": 6,
   "metadata": {},
   "outputs": [],
   "source": [
    "from cnnClassifier.constants import *\n",
    "from cnnClassifier.utils.common import read_yaml, create_directories\n",
    "\n",
    "\n",
    "class ConfigurationManager:\n",
    "    # The ConfigurationManager class handles configuration-related tasks, such as reading configuration files\n",
    "    # and setting up directories for data ingestion and other processes in the project.\n",
    "\n",
    "    def __init__(\n",
    "        self,\n",
    "        config_filepath=CONFIG_FILE_PATH,\n",
    "        params_filepath=PARAMS_FILE_PATH\n",
    "    ):\n",
    "        \"\"\"\n",
    "        Initializes ConfigurationManager with paths to configuration and parameters files.\n",
    "        \n",
    "        :param config_filepath: Path to the main configuration YAML file.\n",
    "        :param params_filepath: Path to the parameters YAML file.\n",
    "        \"\"\"\n",
    "        \n",
    "        # Read the YAML configuration file and store its content in self.config\n",
    "        self.config = read_yaml(config_filepath)\n",
    "        \n",
    "        # Read the YAML parameters file and store its content in self.params\n",
    "        self.params = read_yaml(params_filepath)\n",
    "\n",
    "        # Create the main artifacts directory specified in the config, if it doesn't exist\n",
    "        create_directories([self.config.artifacts_root])\n",
    "\n",
    "    \n",
    "    def get_data_ingestion_config(self) -> DataIngestionConfig:\n",
    "        \"\"\"\n",
    "        Retrieves and prepares the data ingestion configuration.\n",
    "\n",
    "        :return: An instance of DataIngestionConfig containing the data ingestion settings.\n",
    "        \"\"\"\n",
    "        \n",
    "        # Access the data ingestion part of the configuration\n",
    "        config = self.config.data_ingestion\n",
    "\n",
    "        # Ensure that the root directory for data ingestion exists or create it\n",
    "        create_directories([config.root_dir])\n",
    "\n",
    "        # Create a DataIngestionConfig instance with necessary parameters for data ingestion\n",
    "        data_ingestion_config = DataIngestionConfig(\n",
    "            root_dir=config.root_dir,            # Root directory for data storage\n",
    "            source_URL=config.source_URL,        # URL for downloading data\n",
    "            local_data_file=config.local_data_file,  # Path to the local data file\n",
    "            unzip_dir=config.unzip_dir           # Directory to store unzipped data files\n",
    "        )\n",
    "\n",
    "        # Return the configured DataIngestionConfig instance\n",
    "        return data_ingestion_config\n"
   ]
  },
  {
   "cell_type": "markdown",
   "metadata": {},
   "source": [
    "#### **Data Ingestion**\n",
    "\n",
    "The `DataIngestion` class handles the process of downloading and extracting a ZIP file dataset from a specified URL. It leverages several modules to manage file paths, perform download operations, handle ZIP files, and log events.\n"
   ]
  },
  {
   "cell_type": "code",
   "execution_count": 7,
   "metadata": {},
   "outputs": [],
   "source": [
    "import os  # Import the 'os' module for interacting with the operating system, such as file and directory operations.\n",
    "\n",
    "import urllib.request as request  # Import 'urllib.request' as 'request' for handling URL operations, \n",
    "# such as opening and reading URLs, which is useful for downloading files from the internet.\n",
    "\n",
    "import zipfile  # Import the 'zipfile' module to work with ZIP archives, enabling the ability to read and extract ZIP files.\n",
    "\n",
    "from cnnClassifier import logger  # Import the 'logger' from the 'cnnClassifier' module for logging purposes,\n",
    "# allowing you to record messages about the execution of the program (e.g., errors, info messages).\n",
    "\n",
    "from cnnClassifier.utils.common import get_size  # Import the 'get_size' function from the 'common' module in 'utils' of 'cnnClassifier'.\n",
    "# This function likely retrieves the size of a file or directory, which can be useful for managing resources or logging.\n",
    "from pathlib import Path\n",
    "\n",
    "class DataIngestion:\n",
    "    def __init__(self, config: DataIngestionConfig):\n",
    "        self.config = config\n",
    "\n",
    "\n",
    "    \n",
    "    def download_file(self):\n",
    "        if not os.path.exists(self.config.local_data_file):\n",
    "            filename, headers = request.urlretrieve(\n",
    "                url = self.config.source_URL,\n",
    "                filename = self.config.local_data_file\n",
    "            )\n",
    "            logger.info(f\"{filename} download! with following info: \\n{headers}\")\n",
    "        else:\n",
    "            logger.info(f\"File already exists of size: {get_size(Path(self.config.local_data_file))}\")  \n",
    "\n",
    "\n",
    "    \n",
    "    def extract_zip_file(self):\n",
    "        \"\"\"\n",
    "        zip_file_path: str\n",
    "        Extracts the zip file into the data directory\n",
    "        Function returns None\n",
    "        \"\"\"\n",
    "        unzip_path = self.config.unzip_dir\n",
    "        os.makedirs(unzip_path, exist_ok=True)\n",
    "        with zipfile.ZipFile(self.config.local_data_file, 'r') as zip_ref:\n",
    "            zip_ref.extractall(unzip_path)"
   ]
  },
  {
   "cell_type": "markdown",
   "metadata": {},
   "source": [
    "#### **Data Ingestion Process Execution**\n",
    "\n",
    "This block of code initializes and runs the data ingestion process using the `ConfigurationManager` and `DataIngestion` classes. Error handling is included to catch and raise any exceptions that may occur during execution.\n"
   ]
  },
  {
   "cell_type": "code",
   "execution_count": 8,
   "metadata": {},
   "outputs": [
    {
     "name": "stdout",
     "output_type": "stream",
     "text": [
      "[2024-10-26 23:53:23,238: INFO: common: yaml file: config\\config.yaml loaded successfully]\n",
      "[2024-10-26 23:53:23,245: INFO: common: yaml file: params.yaml loaded successfully]\n",
      "[2024-10-26 23:53:23,248: INFO: common: created directory at: artifacts]\n",
      "[2024-10-26 23:53:23,251: INFO: common: created directory at: artifacts/data_ingestion]\n",
      "[2024-10-26 23:53:55,912: INFO: 2754697353: artifacts/data_ingestion/data.zip download! with following info: \n",
      "Connection: close\n",
      "Content-Length: 11616915\n",
      "Cache-Control: max-age=300\n",
      "Content-Security-Policy: default-src 'none'; style-src 'unsafe-inline'; sandbox\n",
      "Content-Type: application/zip\n",
      "ETag: \"adf745abc03891fe493c3be264ec012691fe3fa21d861f35a27edbe6d86a76b1\"\n",
      "Strict-Transport-Security: max-age=31536000\n",
      "X-Content-Type-Options: nosniff\n",
      "X-Frame-Options: deny\n",
      "X-XSS-Protection: 1; mode=block\n",
      "X-GitHub-Request-Id: BD0F:1A6FF7:A7CB9:1A1502:671DDE8B\n",
      "Accept-Ranges: bytes\n",
      "Date: Sun, 27 Oct 2024 06:53:25 GMT\n",
      "Via: 1.1 varnish\n",
      "X-Served-By: cache-fjr990031-FJR\n",
      "X-Cache: HIT\n",
      "X-Cache-Hits: 0\n",
      "X-Timer: S1730012005.445536,VS0,VE350\n",
      "Vary: Authorization,Accept-Encoding,Origin\n",
      "Access-Control-Allow-Origin: *\n",
      "Cross-Origin-Resource-Policy: cross-origin\n",
      "X-Fastly-Request-ID: 967287e736498ff7b55ca97172ac33e44209e139\n",
      "Expires: Sun, 27 Oct 2024 06:58:25 GMT\n",
      "Source-Age: 0\n",
      "\n",
      "]\n"
     ]
    }
   ],
   "source": [
    "try:\n",
    "    config = ConfigurationManager()\n",
    "    data_ingestion_config = config.get_data_ingestion_config()\n",
    "    data_ingestion = DataIngestion(config=data_ingestion_config)\n",
    "    data_ingestion.download_file()\n",
    "    data_ingestion.extract_zip_file()\n",
    "except Exception as e:\n",
    "    raise e"
   ]
  }
 ],
 "metadata": {
  "kernelspec": {
   "display_name": "Python 3",
   "language": "python",
   "name": "python3"
  },
  "language_info": {
   "codemirror_mode": {
    "name": "ipython",
    "version": 3
   },
   "file_extension": ".py",
   "mimetype": "text/x-python",
   "name": "python",
   "nbconvert_exporter": "python",
   "pygments_lexer": "ipython3",
   "version": "3.12.0"
  }
 },
 "nbformat": 4,
 "nbformat_minor": 2
}
